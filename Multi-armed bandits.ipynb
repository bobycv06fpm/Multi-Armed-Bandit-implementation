{
 "cells": [
  {
   "cell_type": "markdown",
   "metadata": {},
   "source": [
    "# COMP90051 Project 2"
   ]
  },
  {
   "cell_type": "code",
   "execution_count": 28,
   "metadata": {},
   "outputs": [],
   "source": [
    "# Do not edit. These are the only imports permitted.\n",
    "%matplotlib inline\n",
    "import numpy as np\n",
    "from numpy.linalg import inv\n",
    "import matplotlib.pyplot as plt\n",
    "from abc import ABC, abstractmethod"
   ]
  },
  {
   "cell_type": "markdown",
   "metadata": {},
   "source": [
    "## 1. Implement ε-Greedy and UCB"
   ]
  },
  {
   "cell_type": "code",
   "execution_count": 29,
   "metadata": {},
   "outputs": [],
   "source": [
    "class MAB(ABC):\n",
    "    \"\"\"\n",
    "    Abstract class that represents a multi-armed bandit (MAB)\n",
    "    \"\"\"\n",
    "    \n",
    "    @abstractmethod\n",
    "    def play(self, tround, context):\n",
    "        \"\"\"\n",
    "        Play a round\n",
    "        \n",
    "        Arguments\n",
    "        =========\n",
    "        tround : int\n",
    "            positive integer identifying the round\n",
    "        \n",
    "        context : 1D float array, shape (self.ndims * self.narms), optional\n",
    "            context given to the arms\n",
    "        \n",
    "        Returns\n",
    "        =======\n",
    "        arm : int\n",
    "            the positive integer arm id for this round\n",
    "        \"\"\"\n",
    "    \n",
    "    @abstractmethod\n",
    "    def update(self, arm, reward, context):\n",
    "        \"\"\"\n",
    "        Updates the internal state of the MAB after a play\n",
    "        \n",
    "        Arguments\n",
    "        =========\n",
    "        arm : int\n",
    "            a positive integer arm id in {1, ..., self.narms}\n",
    "        \n",
    "        reward : float\n",
    "            reward received from arm\n",
    "        \n",
    "        context : 1D float array, shape (self.ndims * self.narms), optional\n",
    "            context given to arms\n",
    "        \"\"\""
   ]
  },
  {
   "cell_type": "code",
   "execution_count": 54,
   "metadata": {},
   "outputs": [],
   "source": [
    "class EpsGreedy(MAB):\n",
    "    \"\"\"\n",
    "    Epsilon-Greedy multi-armed bandit\n",
    "\n",
    "    Arguments\n",
    "    =========\n",
    "    narms : int\n",
    "        number of arms\n",
    "\n",
    "    epsilon : float\n",
    "        explore probability\n",
    "\n",
    "    Q0 : float, optional\n",
    "        initial value for the arms\n",
    "    \"\"\"\n",
    "    \n",
    "    def __init__(self, narms, epsilon, Q0=np.inf):\n",
    "        self.narms = narms\n",
    "        self.epsilon = epsilon\n",
    "        self.Qtminus1 = np.full(self.narms, Q0) #stores q value of each arm, initallized to infinity\n",
    "        self.counts = np.zeros(self.narms) #stores number of times an arm is pulled, for each arm\n",
    "        self.rewards = np.zeros(self.narms) #stores total rewards recieved by each arm\n",
    "        \n",
    "    def play(self, tround, context=None):\n",
    "        \n",
    "        #explore exploit with probability epsilon \n",
    "        eps, argmax = np.random.multinomial(1, [self.epsilon, 1-self.epsilon])\n",
    "        \n",
    "        if argmax == 1: #argmax is to choose the arm with highest Q(t-1) value\n",
    "            possible_arm_index = np.argwhere(self.Qtminus1 == np.max(self.Qtminus1)) # index of the maximum q value\n",
    "            possible_arm_index = possible_arm_index.flatten() # in the case we have more than two\n",
    "            arm_index = np.random.choice(possible_arm_index) #tie breaking,  pick a miximising arm at random\n",
    "            arm = arm_index + 1\n",
    "        else:\n",
    "            arm = int(np.random.uniform(1, self.narms+1)) #otherwise explore, randomly pick arm\n",
    "\n",
    "        return arm\n",
    "        \n",
    "        \n",
    "    def update(self, arm, reward, context=None):\n",
    "        arm_index = arm - 1 #arm index needed to update counts, rewards and q value of the arm\n",
    "        \n",
    "        self.counts[arm_index] += 1\n",
    "        self.rewards[arm_index] += reward\n",
    "        \n",
    "        self.Qtminus1[arm_index] = self.rewards[arm_index]/self.counts[arm_index] #calculates and updates q value\n",
    "            "
   ]
  },
  {
   "cell_type": "code",
   "execution_count": 57,
   "metadata": {},
   "outputs": [],
   "source": [
    "class UCB(MAB):\n",
    "    \"\"\"\n",
    "    Upper Confidence Bound (UCB) multi-armed bandit\n",
    "\n",
    "    Arguments\n",
    "    =========\n",
    "    narms : int\n",
    "        number of arms\n",
    "\n",
    "    rho : float\n",
    "        positive real explore-exploit parameter\n",
    "\n",
    "    Q0 : float, optional\n",
    "        initial value for the arms\n",
    "    \"\"\"\n",
    "    \n",
    "    def __init__(self, narms, rho, Q0=np.inf):\n",
    "        self.narms = narms\n",
    "        self.rho = rho\n",
    "        self.tround = int() # tround value initialised as int\n",
    "        \n",
    "        self.Qtminus1 = np.full(self.narms, Q0) #stores q value of each arm, initallized to infinity\n",
    "        self.mu_hat = np.zeros(self.narms) #stores UCB mu hat from lectures, for each arm\n",
    "        self.counts = np.zeros(self.narms) #stores number of times an arm is pulled, for each arm\n",
    "        self.rewards = np.zeros(self.narms) #stores total rewards recieved by each arm\n",
    "    \n",
    "    def play(self, tround, context=None):\n",
    "        possible_arm_index = np.argwhere(self.Qtminus1 == np.max(self.Qtminus1))  #choose the arm with highest Q(t-1) value\n",
    "        possible_arm_index = possible_arm_index.flatten()\n",
    "        arm_index = np.random.choice(possible_arm_index) #tie breaking, pick a miximising arm at random\n",
    "        arm = arm_index + 1\n",
    "        self.tround = tround # update tround to the provided nth round\n",
    "        return arm\n",
    "        \n",
    "    def update(self, arm, reward, context=None):\n",
    "        arm_index = arm - 1\n",
    "        \n",
    "        self.counts[arm_index] += 1\n",
    "        self.rewards[arm_index] += reward\n",
    "        \n",
    "        self.mu_hat[arm_index] = self.rewards[arm_index]/self.counts[arm_index] \n",
    "        confidence = np.sqrt((self.rho*np.log(self.tround))/self.counts[arm_index]) # upper confidence\n",
    "        self.Qtminus1[arm_index] = self.mu_hat[arm_index] + confidence # calculates the udated q-value for each arm\n",
    "    "
   ]
  },
  {
   "cell_type": "markdown",
   "metadata": {},
   "source": [
    "The cell below reads in the data"
   ]
  },
  {
   "cell_type": "code",
   "execution_count": 59,
   "metadata": {},
   "outputs": [],
   "source": [
    "data = []\n",
    "\n",
    "with open('dataset.txt') as f:\n",
    "    lines = f.readlines()\n",
    "    for line in lines:\n",
    "        line = line.split()\n",
    "        data.append(line)\n",
    "        \n",
    "arms = [] # list containing all the arms from the data, as an interger\n",
    "rewards = [] # list containing all the rewards from the data, as an interger\n",
    "contexts_string = []\n",
    "for line in data:\n",
    "    arms.append(int(line[0]))\n",
    "    rewards.append(int(line[1]))\n",
    "    contexts_string.append(line[2:]) \n",
    "\n",
    "contexts = [] # list conataining all the containing all the contexts, each as an array\n",
    "for line in contexts_string:\n",
    "    line = list(map(int, line)) # convert the strings to int data type \n",
    "    line = np.array(line)\n",
    "    line = np.reshape(line,(10,10))\n",
    "    contexts.append((line))\n",
    "\n",
    "contexts = np.array(contexts) # converting the contexts to an array"
   ]
  },
  {
   "cell_type": "markdown",
   "metadata": {},
   "source": [
    "## 2. Off-Policy Evaluation"
   ]
  },
  {
   "cell_type": "code",
   "execution_count": 62,
   "metadata": {},
   "outputs": [],
   "source": [
    "def offlineEvaluate(mab, arms, rewards, contexts, nrounds=None):\n",
    "    \"\"\"\n",
    "    Offline evaluation of a multi-armed bandit\n",
    "    \n",
    "    Arguments\n",
    "    =========\n",
    "    mab : instance of MAB\n",
    "    \n",
    "    arms : 1D int array, shape (nevents,) \n",
    "        integer arm id for each event\n",
    "    \n",
    "    rewards : 1D float array, shape (nevents,)\n",
    "        reward received for each event\n",
    "    \n",
    "    contexts : 2D float array, shape (nevents, mab.narms*nfeatures)\n",
    "        contexts presented to the arms (stacked horizontally) \n",
    "        for each event.\n",
    "        \n",
    "    nrounds : int, optional\n",
    "        number of matching events to evaluate `mab` on.\n",
    "    \n",
    "    Returns\n",
    "    =======\n",
    "    out : 1D float array\n",
    "        rewards for the matching events\n",
    "    \"\"\"\n",
    "    R_t = [] # list of rewards over all rounds/matching plays\n",
    "    htminus1 = 0 # history of running \n",
    "    \n",
    "    for k in range(len(arms)):\n",
    "        arm = (arms[k])\n",
    "        context_index = arm - 1 # context index to get the context of the arm from the contexts over all arms of the event\n",
    "\n",
    "        mab_arm = mab.play(htminus1+1, contexts[k][context_index]) # pass in  h(t-1) + 1 as tround argument \n",
    "\n",
    "        if arm == mab_arm:\n",
    "            R_t.append(rewards[k])\n",
    "            mab.update(arm, rewards[k], contexts[k][context_index]) # update X(1)....X(k) context where k is number of arms  \n",
    "            htminus1 += 1 # update the history of running only when there is a matching event \n",
    "    \n",
    "        if htminus1 == nrounds:\n",
    "#             print(sum(R_t)/htminus1)\n",
    "            return np.array(R_t) #return a numpy array of the result of running when nrounds has been reached\n",
    "        \n",
    "#     print(sum(R_t)/htminus1)\n",
    "    return np.array(R_t) #return a numpy array of the result of running\n"
   ]
  },
  {
   "cell_type": "code",
   "execution_count": 63,
   "metadata": {},
   "outputs": [
    {
     "name": "stdout",
     "output_type": "stream",
     "text": [
      "EpsGreedy average reward 0.2675\n"
     ]
    }
   ],
   "source": [
    "mab = EpsGreedy(10, 0.05)\n",
    "results_EpsGreedy = offlineEvaluate(mab, arms, rewards, contexts, 800)\n",
    "print('EpsGreedy average reward', np.mean(results_EpsGreedy))"
   ]
  },
  {
   "cell_type": "code",
   "execution_count": 64,
   "metadata": {},
   "outputs": [
    {
     "name": "stdout",
     "output_type": "stream",
     "text": [
      "UCB average reward 0.19625\n"
     ]
    }
   ],
   "source": [
    "mab = UCB(10, 1.0)\n",
    "results_UCB = offlineEvaluate(mab, arms, rewards, contexts, 800)\n",
    "print('UCB average reward', np.mean(results_UCB))"
   ]
  },
  {
   "cell_type": "markdown",
   "metadata": {},
   "source": [
    "## 3. Contextual Bandits"
   ]
  },
  {
   "cell_type": "code",
   "execution_count": 60,
   "metadata": {},
   "outputs": [],
   "source": [
    "class LinUCB(MAB):\n",
    "    \"\"\"\n",
    "    Contextual multi-armed bandit (LinUCB)\n",
    "\n",
    "    Arguments\n",
    "    =========\n",
    "    narms : int\n",
    "        number of arms\n",
    "\n",
    "    ndims : int\n",
    "        number of dimensions for each arm's context\n",
    "\n",
    "    alpha : float\n",
    "        positive real explore-exploit parameter\n",
    "    \"\"\"\n",
    "    \n",
    "    def __init__(self, narms, ndims, alpha):\n",
    "        \n",
    "        self.narms = narms\n",
    "        self.ndims = ndims\n",
    "        self.alpha = alpha\n",
    "        \n",
    "        self.A_arm = np.zeros((self.narms, self.ndims, self.ndims)) # create for each arm, a 10*10 array, A(a) in paper\n",
    "        self.b_arm = np.zeros((self.narms, self.ndims)) # create for each arm, an array of size 10, b(a) in paper\n",
    "        \n",
    "        self.p_arm = np.zeros(self.narms) # we store p value of each arm, at time t \n",
    "        self.theta_hat = np.zeros((self.narms, self.ndims)) # theta_hat store value of theta at each round, same size as b_arm\n",
    "        \n",
    "        for i in range(self.narms):\n",
    "            self.A_arm[i] = np.identity(self.ndims) # intiate each array in A_arm as an identity matrix\n",
    "                \n",
    "    def play(self, tround, context):\n",
    "        \n",
    "        for index in range(self.narms):\n",
    "            A_arm_inverse = np.linalg.inv(self.A_arm[index]) # inverse of A of arm \n",
    "            self.theta_hat[index]  = np.dot(A_arm_inverse, self.b_arm[index]) # calculate theta_hat for each arm \n",
    "            confidence = self.alpha * np.sqrt(np.linalg.multi_dot([context, A_arm_inverse, context.T])) #calculate confidence, using context and A(arm) inverse\n",
    "            self.p_arm[index] = np.dot(self.theta_hat[index],context.T) + confidence # calculate p(arm) at time t \n",
    "        \n",
    "        possible_arm_index = np.argwhere(self.p_arm == np.max(self.p_arm)) # select arm with highest p-value\n",
    "        possible_arm_index = possible_arm_index.flatten()\n",
    "        arm_index = np.random.choice(possible_arm_index) # tie breaking at random\n",
    "        arm = arm_index + 1\n",
    "        \n",
    "        return arm   \n",
    "    \n",
    "    def update(self, arm, reward, context):\n",
    "        arm_index = arm - 1\n",
    "        self.A_arm[arm_index] = self.A_arm[arm_index] + np.dot(context, context.T) #updates the A_arm array for the arm\n",
    "        self.b_arm[arm_index] = self.b_arm[arm_index] + np.dot(reward, context) # updates the b_arm array for the arm\n",
    "    "
   ]
  },
  {
   "cell_type": "code",
   "execution_count": 61,
   "metadata": {},
   "outputs": [
    {
     "name": "stdout",
     "output_type": "stream",
     "text": [
      "LinUCB average reward 0.30875\n"
     ]
    }
   ],
   "source": [
    "mab = LinUCB(10, 10, 1.0)\n",
    "results_LinUCB = offlineEvaluate(mab, arms, rewards, contexts, 800)\n",
    "print('LinUCB average reward', np.mean(results_LinUCB))"
   ]
  },
  {
   "cell_type": "markdown",
   "metadata": {},
   "source": [
    "## 4. Evaluation\n",
    "### 4.A."
   ]
  },
  {
   "cell_type": "code",
   "execution_count": 38,
   "metadata": {},
   "outputs": [
    {
     "name": "stdout",
     "output_type": "stream",
     "text": [
      "mab1 is done\n",
      "mab2 is done\n",
      "mab3 is done\n"
     ]
    },
    {
     "data": {
      "image/png": "[encoded data removed]",
      "text/plain": [
       "<Figure size 432x288 with 1 Axes>"
      ]
     },
     "metadata": {},
     "output_type": "display_data"
    }
   ],
   "source": [
    "def get_per_round_cumulative_rewards(results): # calculates cumulative reward per round\n",
    "    per_round_cumulative_rewards = []\n",
    "    for i in range(0, len(results)):\n",
    "        per_round_cumulative_rewards.append(sum(results[0:i+1])/(i+1)) # cumulative reward per round\n",
    "    \n",
    "    return per_round_cumulative_rewards\n",
    "\n",
    "mab = LinUCB(10, 10, 1.0)\n",
    "linUCB = offlineEvaluate(mab, arms, rewards, contexts, 800)\n",
    "cumulative_linUCB = get_per_round_cumulative_rewards(linUCB)\n",
    "print (\"mab1 is done\")\n",
    "\n",
    "mab = UCB(10, 1.0)\n",
    "ucb = offlineEvaluate(mab, arms, rewards, contexts, 800)\n",
    "cumulative_ucb = get_per_round_cumulative_rewards(ucb)\n",
    "print (\"mab2 is done\")\n",
    "\n",
    "mab = EpsGreedy(10, 0.05)\n",
    "epsGreedy = offlineEvaluate(mab, arms, rewards, contexts, 800)\n",
    "cumulative_epsGreedy = get_per_round_cumulative_rewards(epsGreedy)\n",
    "print (\"mab3 is done\")\n",
    "\n",
    "plt.plot(cumulative_epsGreedy, label = \"Epsilon Greedy\", color = 'g') #plot cumulative reward for each mab\n",
    "plt.plot(cumulative_ucb, label = \"UCB\", color = 'b')\n",
    "plt.plot(cumulative_linUCB, label = \"LinUCB\", color = 'r')\n",
    "plt.xlabel('Number of Rounds')\n",
    "plt.title('Cumulative Reward per Round')\n",
    "plt.ylabel('Cumulative Reward')\n",
    "plt.legend()\n",
    "plt.show()"
   ]
  },
  {
   "cell_type": "markdown",
   "metadata": {},
   "source": [
    "### 4.B."
   ]
  },
  {
   "cell_type": "code",
   "execution_count": 72,
   "metadata": {},
   "outputs": [
    {
     "data": {
      "image/png": "[encoded data removed]",
      "text/plain": [
       "<Figure size 432x288 with 1 Axes>"
      ]
     },
     "metadata": {},
     "output_type": "display_data"
    }
   ],
   "source": [
    "np.random.seed(0) \n",
    "\n",
    "alphas = [0.1, 1.0, 1.8, 10.0, 20.0] # all values of aplha\n",
    "\n",
    "def grid_search(alphas): # grid search funtion\n",
    "    results_list = []\n",
    "    for alpha in alphas:\n",
    "        mab = LinUCB(10, 10, alpha)\n",
    "        results_LinUCB = offlineEvaluate(mab, arms, rewards, contexts, 800)\n",
    "        results_list.append(results_LinUCB)\n",
    "\n",
    "    return results_list\n",
    "\n",
    "results_list = grid_search(alphas)\n",
    "    \n",
    "for i, list_ in enumerate(results_list):\n",
    "    alpha = alphas[i]\n",
    "    per_round_cumulative_rewards = get_per_round_cumulative_rewards(list_)\n",
    "    plt.plot(per_round_cumulative_rewards, label = r'${\\alpha}$ = '+str(alpha)) # plots for each alpha\n",
    "    \n",
    "    \n",
    "plt.xlabel('number of matches')\n",
    "plt.ylabel('Reward/Cumulative')\n",
    "plt.title('Grid Search')\n",
    "plt.legend()\n",
    "plt.show()"
   ]
  },
  {
   "cell_type": "code",
   "execution_count": null,
   "metadata": {},
   "outputs": [],
   "source": []
  }
 ],
 "metadata": {
  "kernelspec": {
   "display_name": "Python 3",
   "language": "python",
   "name": "python3"
  },
  "language_info": {
   "codemirror_mode": {
    "name": "ipython",
    "version": 3
   },
   "file_extension": ".py",
   "mimetype": "text/x-python",
   "name": "python",
   "nbconvert_exporter": "python",
   "pygments_lexer": "ipython3",
   "version": "3.7.6"
  }
 },
 "nbformat": 4,
 "nbformat_minor": 2
}
